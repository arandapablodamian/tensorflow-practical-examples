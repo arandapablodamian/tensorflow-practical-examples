{
  "nbformat": 4,
  "nbformat_minor": 0,
  "metadata": {
    "accelerator": "GPU",
    "colab": {
      "name": "Collab 13 - Preparar un modelo de TensorFlow para móviles con TensorFlow Lite.ipynb",
      "provenance": [],
      "collapsed_sections": []
    },
    "kernelspec": {
      "display_name": "Python 3",
      "language": "python",
      "name": "python3"
    },
    "language_info": {
      "codemirror_mode": {
        "name": "ipython",
        "version": 3
      },
      "file_extension": ".py",
      "mimetype": "text/x-python",
      "name": "python",
      "nbconvert_exporter": "python",
      "pygments_lexer": "ipython3",
      "version": "3.8.5"
    }
  },
  "cells": [
    {
      "cell_type": "markdown",
      "metadata": {
        "id": "VZ9GUuOf4MCO"
      },
      "source": [
        "<a href=\"https://colab.research.google.com/github/joanby/tensorflow2/blob/master/Collab%2013%20-%20Preparar%20un%20modelo%20de%20TensorFlow%20para%20móviles%20con%20TensorFlow%20Lite.ipynb\" target=\"_parent\"><img src=\"https://colab.research.google.com/assets/colab-badge.svg\" alt=\"Open In Colab\"/></a>"
      ]
    },
    {
      "cell_type": "markdown",
      "metadata": {
        "id": "gNCP2RT3RNtz"
      },
      "source": [
        "## Paso 1: Instalar las dependencias y configurar el entorno de trabajo"
      ]
    },
    {
      "cell_type": "code",
      "metadata": {
        "id": "RtAydW1fQ2Kg"
      },
      "source": [
        "#!pip install tensorflow-gpu==1.13.1"
      ],
      "execution_count": 1,
      "outputs": []
    },
    {
      "cell_type": "markdown",
      "metadata": {
        "id": "i7guNG2NSYm9"
      },
      "source": [
        "## Paso 2: Importar las dependencias"
      ]
    },
    {
      "cell_type": "code",
      "metadata": {
        "id": "p3kH8SQSSA6c",
        "outputId": "fa3d5fa8-ce50-4879-cb82-5ca54373d653",
        "colab": {
          "base_uri": "https://localhost:8080/",
          "height": 37
        }
      },
      "source": [
        "import tensorflow as tf\n",
        "import numpy as np\n",
        "\n",
        "from tensorflow.keras.datasets import fashion_mnist\n",
        "\n",
        "tf.__version__"
      ],
      "execution_count": 2,
      "outputs": [
        {
          "output_type": "execute_result",
          "data": {
            "application/vnd.google.colaboratory.intrinsic+json": {
              "type": "string"
            },
            "text/plain": [
              "'2.3.0'"
            ]
          },
          "metadata": {
            "tags": []
          },
          "execution_count": 2
        }
      ]
    },
    {
      "cell_type": "markdown",
      "metadata": {
        "id": "qUemNsucSpTc"
      },
      "source": [
        "## Paso 3: Pre procesado de datos"
      ]
    },
    {
      "cell_type": "markdown",
      "metadata": {
        "id": "NTxQSWirSs2l"
      },
      "source": [
        "### Cargar el dataset de FashionMNIST"
      ]
    },
    {
      "cell_type": "code",
      "metadata": {
        "id": "3s83WwJ2SnDr",
        "outputId": "08d58dc6-f6d5-4afe-e892-e281a6250c78",
        "colab": {
          "base_uri": "https://localhost:8080/",
          "height": 153
        }
      },
      "source": [
        "(X_train, y_train), (X_test, y_test) = fashion_mnist.load_data()"
      ],
      "execution_count": 3,
      "outputs": [
        {
          "output_type": "stream",
          "text": [
            "Downloading data from https://storage.googleapis.com/tensorflow/tf-keras-datasets/train-labels-idx1-ubyte.gz\n",
            "32768/29515 [=================================] - 0s 0us/step\n",
            "Downloading data from https://storage.googleapis.com/tensorflow/tf-keras-datasets/train-images-idx3-ubyte.gz\n",
            "26427392/26421880 [==============================] - 0s 0us/step\n",
            "Downloading data from https://storage.googleapis.com/tensorflow/tf-keras-datasets/t10k-labels-idx1-ubyte.gz\n",
            "8192/5148 [===============================================] - 0s 0us/step\n",
            "Downloading data from https://storage.googleapis.com/tensorflow/tf-keras-datasets/t10k-images-idx3-ubyte.gz\n",
            "4423680/4422102 [==============================] - 0s 0us/step\n"
          ],
          "name": "stdout"
        }
      ]
    },
    {
      "cell_type": "markdown",
      "metadata": {
        "id": "4OvP_vFiSwmc"
      },
      "source": [
        "### Normalizar las imágenes"
      ]
    },
    {
      "cell_type": "code",
      "metadata": {
        "id": "rODvuie6Sz06"
      },
      "source": [
        "X_train = X_train / 255.\n",
        "X_test = X_test / 255."
      ],
      "execution_count": 4,
      "outputs": []
    },
    {
      "cell_type": "markdown",
      "metadata": {
        "id": "hky7XzH3S1sQ"
      },
      "source": [
        "### Redimensionar las imágenes"
      ]
    },
    {
      "cell_type": "code",
      "metadata": {
        "id": "aBxZsTPBS4XJ",
        "outputId": "e604290a-b670-4c87-a703-ff8e1b5ad523",
        "colab": {
          "base_uri": "https://localhost:8080/",
          "height": 34
        }
      },
      "source": [
        "X_train.shape"
      ],
      "execution_count": 5,
      "outputs": [
        {
          "output_type": "execute_result",
          "data": {
            "text/plain": [
              "(60000, 28, 28)"
            ]
          },
          "metadata": {
            "tags": []
          },
          "execution_count": 5
        }
      ]
    },
    {
      "cell_type": "code",
      "metadata": {
        "id": "5rPdViS9T1Xb"
      },
      "source": [
        "X_train = X_train.reshape(-1, 28*28)\n",
        "X_test = X_test.reshape(-1, 28*28)"
      ],
      "execution_count": 6,
      "outputs": []
    },
    {
      "cell_type": "code",
      "metadata": {
        "id": "Fbmf82l2UH3a",
        "outputId": "a0f2d2a4-c255-473b-fe76-77c1b20a3b00",
        "colab": {
          "base_uri": "https://localhost:8080/",
          "height": 34
        }
      },
      "source": [
        "X_train.shape"
      ],
      "execution_count": 7,
      "outputs": [
        {
          "output_type": "execute_result",
          "data": {
            "text/plain": [
              "(60000, 784)"
            ]
          },
          "metadata": {
            "tags": []
          },
          "execution_count": 7
        }
      ]
    },
    {
      "cell_type": "markdown",
      "metadata": {
        "id": "o7g7SeZgUWCo"
      },
      "source": [
        "## Paso 4: Construir el modelo"
      ]
    },
    {
      "cell_type": "markdown",
      "metadata": {
        "id": "HfqQPaYVUY2S"
      },
      "source": [
        "### Defining the model"
      ]
    },
    {
      "cell_type": "code",
      "metadata": {
        "id": "db7lvvFXUKe6"
      },
      "source": [
        "model = tf.keras.models.Sequential()"
      ],
      "execution_count": 8,
      "outputs": []
    },
    {
      "cell_type": "markdown",
      "metadata": {
        "id": "RrwtIwtCUa0g"
      },
      "source": [
        "### Definir el modelo"
      ]
    },
    {
      "cell_type": "code",
      "metadata": {
        "id": "pnSHfe5XUcp1"
      },
      "source": [
        "model.add(tf.keras.layers.Dense(units=128, activation='relu', input_shape=(784,)))\n",
        "model.add(tf.keras.layers.Dropout(rate=0.2))\n",
        "model.add(tf.keras.layers.Dense(units=10, activation='softmax'))"
      ],
      "execution_count": 9,
      "outputs": []
    },
    {
      "cell_type": "markdown",
      "metadata": {
        "id": "Ed_YGh-5UdL3"
      },
      "source": [
        "### Compilar el modelo"
      ]
    },
    {
      "cell_type": "code",
      "metadata": {
        "id": "JZVOTYQXUgC5"
      },
      "source": [
        "model.compile(optimizer='adam', loss='sparse_categorical_crossentropy', metrics=['sparse_categorical_accuracy'])"
      ],
      "execution_count": 10,
      "outputs": []
    },
    {
      "cell_type": "markdown",
      "metadata": {
        "id": "ZnV-v8ooWXPw"
      },
      "source": [
        "### Entrenar el modelo"
      ]
    },
    {
      "cell_type": "code",
      "metadata": {
        "id": "oZnrU1MHVB4b",
        "outputId": "04969b5e-98b3-491e-9b0e-0ba7c1116854",
        "colab": {
          "base_uri": "https://localhost:8080/",
          "height": 204
        }
      },
      "source": [
        "model.fit(X_train, y_train, epochs=5)"
      ],
      "execution_count": 11,
      "outputs": [
        {
          "output_type": "stream",
          "text": [
            "Epoch 1/5\n",
            "1875/1875 [==============================] - 4s 2ms/step - loss: 0.5372 - sparse_categorical_accuracy: 0.8104\n",
            "Epoch 2/5\n",
            "1875/1875 [==============================] - 3s 2ms/step - loss: 0.3999 - sparse_categorical_accuracy: 0.8548\n",
            "Epoch 3/5\n",
            "1875/1875 [==============================] - 3s 2ms/step - loss: 0.3671 - sparse_categorical_accuracy: 0.8660\n",
            "Epoch 4/5\n",
            "1875/1875 [==============================] - 3s 2ms/step - loss: 0.3456 - sparse_categorical_accuracy: 0.8727\n",
            "Epoch 5/5\n",
            "1875/1875 [==============================] - 3s 2ms/step - loss: 0.3303 - sparse_categorical_accuracy: 0.8796\n"
          ],
          "name": "stdout"
        },
        {
          "output_type": "execute_result",
          "data": {
            "text/plain": [
              "<tensorflow.python.keras.callbacks.History at 0x7f48c2141fd0>"
            ]
          },
          "metadata": {
            "tags": []
          },
          "execution_count": 11
        }
      ]
    },
    {
      "cell_type": "markdown",
      "metadata": {
        "id": "P2GalF1WWZDk"
      },
      "source": [
        "### Evaluar el modelo"
      ]
    },
    {
      "cell_type": "code",
      "metadata": {
        "id": "zUO2saLWWa3q",
        "outputId": "0984de82-74ca-481b-a78a-9d8759300d4e",
        "colab": {
          "base_uri": "https://localhost:8080/",
          "height": 51
        }
      },
      "source": [
        "test_loss, test_accuracy = model.evaluate(X_test, y_test)\n",
        "print(\"Precisión del conjunto de test: {}\".format(test_accuracy))"
      ],
      "execution_count": 12,
      "outputs": [
        {
          "output_type": "stream",
          "text": [
            "313/313 [==============================] - 0s 2ms/step - loss: 0.3670 - sparse_categorical_accuracy: 0.8648\n",
            "Precisión del conjunto de test: 0.864799976348877\n"
          ],
          "name": "stdout"
        }
      ]
    },
    {
      "cell_type": "markdown",
      "metadata": {
        "id": "AV_Vnn1IXbUN"
      },
      "source": [
        "## Paso 5: Convertir el modelo a la versión de TensorFlow Lite"
      ]
    },
    {
      "cell_type": "markdown",
      "metadata": {
        "id": "bw6WoYDeXhA4"
      },
      "source": [
        "### Guardar el modelo"
      ]
    },
    {
      "cell_type": "code",
      "metadata": {
        "id": "Lu3wsEWAXMFC"
      },
      "source": [
        "model_name = 'fashion_mobile_model.h5'\n",
        "tf.keras.models.save_model(model, model_name)"
      ],
      "execution_count": 13,
      "outputs": []
    },
    {
      "cell_type": "markdown",
      "metadata": {
        "id": "Bvz3KYQWYKe2"
      },
      "source": [
        "### Crear el TFLite Converter"
      ]
    },
    {
      "cell_type": "code",
      "metadata": {
        "id": "7mgW1OGcYp5b"
      },
      "source": [
        "keras_model = tf.keras.models.load_model(\"/content/fashion_mobile_model.h5\")\n",
        "converter = tf.lite.TFLiteConverter.from_keras_model(keras_model)"
      ],
      "execution_count": 18,
      "outputs": []
    },
    {
      "cell_type": "markdown",
      "metadata": {
        "id": "R2kkEO_bZbcI"
      },
      "source": [
        "### Convertir el modelo"
      ]
    },
    {
      "cell_type": "code",
      "metadata": {
        "id": "-TpOJV5mZTRC",
        "outputId": "fce0f74c-2d9e-48ea-8195-83bc7b574fba",
        "colab": {
          "base_uri": "https://localhost:8080/",
          "height": 156
        }
      },
      "source": [
        "tflite_model = converter.convert()"
      ],
      "execution_count": 19,
      "outputs": [
        {
          "output_type": "stream",
          "text": [
            "WARNING:tensorflow:From /usr/local/lib/python3.6/dist-packages/tensorflow/python/training/tracking/tracking.py:111: Model.state_updates (from tensorflow.python.keras.engine.training) is deprecated and will be removed in a future version.\n",
            "Instructions for updating:\n",
            "This property should not be used in TensorFlow 2.0, as updates are applied automatically.\n",
            "WARNING:tensorflow:From /usr/local/lib/python3.6/dist-packages/tensorflow/python/training/tracking/tracking.py:111: Layer.updates (from tensorflow.python.keras.engine.base_layer) is deprecated and will be removed in a future version.\n",
            "Instructions for updating:\n",
            "This property should not be used in TensorFlow 2.0, as updates are applied automatically.\n",
            "INFO:tensorflow:Assets written to: /tmp/tmpcyj0yf8c/assets\n"
          ],
          "name": "stdout"
        }
      ]
    },
    {
      "cell_type": "markdown",
      "metadata": {
        "id": "dXHT978hZzX3"
      },
      "source": [
        "### Guardar la versión de TFLite version del modelo"
      ]
    },
    {
      "cell_type": "code",
      "metadata": {
        "id": "9jqZ2zpmZnez"
      },
      "source": [
        "with open(\"tf_model.tflite\", \"wb\") as f:\n",
        "  f.write(tflite_model)"
      ],
      "execution_count": 20,
      "outputs": []
    }
  ]
}